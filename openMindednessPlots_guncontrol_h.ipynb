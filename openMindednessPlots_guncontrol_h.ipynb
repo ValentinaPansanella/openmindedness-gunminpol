{
 "cells": [
  {
   "cell_type": "code",
   "execution_count": null,
   "metadata": {},
   "outputs": [],
   "source": [
    "%matplotlib inline\n",
    "import matplotlib.pyplot as plt\n",
    "import pandas as pd\n",
    "import openMindednessFunctions as omf\n",
    "import seaborn as sns"
   ]
  },
  {
   "cell_type": "code",
   "execution_count": 110,
   "metadata": {},
   "outputs": [],
   "source": [
    "hyp = pd.read_csv('OMdata_h.csv')\n",
    "net = pd.read_csv('datasets/in/OMdata.csv')"
   ]
  },
  {
   "cell_type": "code",
   "execution_count": 111,
   "metadata": {
    "scrolled": true
   },
   "outputs": [],
   "source": [
    "hyp = hyp.drop(labels='Unnamed: 0', axis='columns')\n",
    "net = net.drop(labels='Unnamed: 0', axis='columns')"
   ]
  },
  {
   "cell_type": "code",
   "execution_count": 112,
   "metadata": {},
   "outputs": [
    {
     "data": {
      "text/plain": [
       "2108"
      ]
     },
     "execution_count": 112,
     "metadata": {},
     "output_type": "execute_result"
    }
   ],
   "source": [
    "len(hyp)"
   ]
  },
  {
   "cell_type": "code",
   "execution_count": 113,
   "metadata": {},
   "outputs": [
    {
     "data": {
      "text/plain": [
       "2108"
      ]
     },
     "execution_count": 113,
     "metadata": {},
     "output_type": "execute_result"
    }
   ],
   "source": [
    "len(net)"
   ]
  },
  {
   "cell_type": "markdown",
   "metadata": {},
   "source": [
    "# Plots for politics dataset"
   ]
  },
  {
   "cell_type": "code",
   "execution_count": 114,
   "metadata": {},
   "outputs": [],
   "source": [
    "import os\n",
    "import re\n",
    "import pandas as pd\n",
    "import numpy as np\n",
    "import json\n",
    "import matplotlib.pyplot as plt\n",
    "import seaborn as sns\n",
    "import math\n",
    "from matplotlib import rcParams\n",
    "from matplotlib.colors import LinearSegmentedColormap\n",
    "from cycler import cycler\n",
    "\n",
    "\n",
    "pd.set_option('display.max_columns', None)\n",
    "pd.set_option('display.max_rows', None)\n",
    "pd.set_option('display.max_colwidth', None)\n",
    "pd.set_option('mode.chained_assignment', None)"
   ]
  },
  {
   "cell_type": "code",
   "execution_count": 115,
   "metadata": {},
   "outputs": [],
   "source": [
    "#rcParams default settings\n",
    "\"https://matplotlib.org/stable/tutorials/introductory/customizing.html\"\n",
    "\n",
    "#rcParams settings\n",
    "plt.style.use('ggplot')\n",
    "\n",
    "rcParams['font.size'] = 20\n",
    "rcParams['font.family'] = 'sans-serif'\n",
    "rcParams['font.style'] = 'normal'\n",
    "\n",
    "rcParams['figure.facecolor'] = 'white'\n",
    "rcParams['figure.figsize'] = (10,6)\n",
    "\n",
    "rcParams['savefig.bbox'] = 'tight'\n",
    "rcParams['savefig.dpi'] = 300\n",
    "rcParams['savefig.transparent'] = True\n",
    "\n",
    "navy = (56 / 256, 74 / 256, 143 / 256)\n",
    "teal = (106 / 256, 197 / 256, 179 / 256)\n",
    "pink = [199 / 255, 99 / 255, 150 / 255]\n",
    "rcParams['axes.prop_cycle'] = cycler(color=['tab:blue', 'tab:green', 'tab:red'])\n",
    "\n",
    "rcParams['axes.spines.right'] = False\n",
    "rcParams['axes.spines.top'] = False\n",
    "rcParams['axes.labelsize'] = 20\n",
    "rcParams['axes.labelcolor'] = 'black'\n",
    "rcParams['axes.edgecolor'] = 'grey'\n",
    "rcParams['axes.linewidth'] = 3\n",
    "rcParams['axes.facecolor'] = 'white'\n",
    "rcParams['axes.titlepad'] = 4\n",
    "\n",
    "rcParams['xtick.color'] = 'grey'\n",
    "rcParams['ytick.color'] = 'grey'\n",
    "rcParams['xtick.major.width'] = 2\n",
    "rcParams['ytick.major.width'] = 0\n",
    "rcParams['xtick.major.size'] = 5\n",
    "rcParams['ytick.major.size'] = 0\n",
    "rcParams['xtick.labelsize'] = 20\n",
    "rcParams['ytick.labelsize'] = 20\n",
    "\n",
    "rcParams['lines.linewidth'] = 3\n",
    "rcParams['lines.markersize'] = 10\n",
    "\n",
    "rcParams['grid.color'] = 'grey'\n",
    "rcParams['grid.linewidth'] = 0.1"
   ]
  },
  {
   "cell_type": "code",
   "execution_count": 116,
   "metadata": {},
   "outputs": [],
   "source": [
    "hyp = hyp.rename(columns={'date':'timestamp'})\n",
    "# net = net.rename(columns={'date':'timestamp'})"
   ]
  },
  {
   "cell_type": "code",
   "execution_count": 106,
   "metadata": {
    "scrolled": true
   },
   "outputs": [],
   "source": [
    "# import seaborn as sns\n",
    "# palette = {\n",
    "#     'Democrat': 'tab:blue',\n",
    "#     'Moderate': 'tab:green',\n",
    "#     'Republican': 'tab:red',\n",
    "# }\n",
    "# # sns.set_style(\"white\", rc={'axes.spines.right': False, 'axes.spines.top': False, 'figure.dpi':600, 'axes.xmargin': 0.15, 'xtick.labelsize': 'x-large'})\n",
    "\n",
    "# for dataset in sorted(hyp.dataset.unique()):\n",
    "#     print(dataset)\n",
    "#     data = hyp[hyp['dataset']==dataset]\n",
    "#     fig, axes = plt.subplots(nrows=2, ncols=2, figsize=(10, 7), sharey=True)\n",
    "#     i = 0\n",
    "#     j = 0\n",
    "#     for timestamp in list(data.timestamp.unique()):\n",
    "#         tmp = data[data['timestamp']==timestamp]\n",
    "#         g = sns.histplot(data=tmp, x='opt', hue='orientation', palette=palette, ax=axes[i, j], alpha=0.2, stat='percent', common_norm=False, kde=True, line_kws={'linewidth':5})\n",
    "#         g.set_ylabel(\"% Users\", fontsize = 15)\n",
    "#         g.set_xlabel(\"Opinion\", fontsize = 15)\n",
    "#     #     g.set_title(f'{labels[i,j]}', fontsize = 15)\n",
    "#         g.set_xlim(-0.1, 1.0)\n",
    "#     #     g.set_xticklabels(labels=[-0.2, 0.0, 0.2, 0.4, 0.6, 0.8], fontsize=15)\n",
    "#         # yticklabels = g.get_yticks()\n",
    "#         # g.set_yticklabels(labels = yticklabels, fontsize=15)\n",
    "#         plt.setp(g.get_legend().get_texts(), fontsize='15') # for legend text\n",
    "#         plt.setp(g.get_legend().get_title(), fontsize='15') # for legend text\n",
    "#         plt.subplots_adjust(hspace=0.5)\n",
    "#         if j < 1 or i > 0:\n",
    "#             g.legend_.remove()\n",
    "#         else:\n",
    "#             axes[i,j].legend_.set_title(\"Leaning\")\n",
    "#         j += 1\n",
    "#         if j % 2 == 0:\n",
    "#             i+=1\n",
    "#             j = 0\n",
    "#     plt.suptitle(dataset.capitalize())\n",
    "#     plt.show()\n",
    "#     plt.close()"
   ]
  },
  {
   "cell_type": "code",
   "execution_count": 117,
   "metadata": {},
   "outputs": [
    {
     "data": {
      "text/plain": [
       "Index(['timestamp', 'node', 'dataset', 'opt', 'opt1', 'neighbors', 'opChange',\n",
       "       'homophily', 'orientation', 'neighborsOps', 'error', 'estOp',\n",
       "       'openMindedness', 'nactiveint', 'orientation-1', 'date'],\n",
       "      dtype='object')"
      ]
     },
     "execution_count": 117,
     "metadata": {},
     "output_type": "execute_result"
    }
   ],
   "source": [
    "net.columns"
   ]
  },
  {
   "cell_type": "code",
   "execution_count": 128,
   "metadata": {},
   "outputs": [
    {
     "data": {
      "image/png": "[encoded data removed]",
      "text/plain": [
       "<Figure size 1080x720 with 6 Axes>"
      ]
     },
     "metadata": {},
     "output_type": "display_data"
    }
   ],
   "source": [
    "import seaborn as sns\n",
    "fig, ax = plt.subplots(nrows=3, ncols=2, sharex=True, sharey=True, figsize=(15,10))\n",
    "for i, dataset in enumerate(sorted(hyp.dataset.unique())):\n",
    "    datah = hyp[hyp['dataset'] == dataset]\n",
    "    datan = net[net['dataset'] == dataset]\n",
    "    # sns.set_style(\"whitegrid\", rc={'axes.spines.right': False, 'axes.spines.top': False, 'figure.dpi':600, 'axes.xmargin': 0.15})\n",
    "    h = sns.boxplot(x=\"timestamp\", y=\"openMindedness\", palette=['tab:orange'],data=datah, ax=ax[i, 0], showfliers=False)\n",
    "    n = sns.boxplot(x=\"timestamp\", y=\"openMindedness\", palette=['tab:orange'],data=datan, ax=ax[i, 1], showfliers=False)\n",
    "    ax[i,0].set_xlabel(\"\")\n",
    "    ax[i,1].set_xlabel(\"\")\n",
    "    ax[i,0].set_ylabel(r\"$\\widehat{CB}$\", fontsize = 20)\n",
    "    ax[i,1].set_ylabel(r\"$\\widehat{CB}$\", fontsize = 20)\n",
    "    ax[i,0].set_xticks(ticks=[0, 1, 2, 3])\n",
    "    ax[i,1].set_xticks(ticks=[0, 1, 2, 3])\n",
    "    ax[i,0].set_xticklabels(labels=['01-07/2017', '07-12/2017', '01-07/2018', '01-12/2018'], fontdict={'horizontalalignment': 'center'})\n",
    "    ax[i,1].set_xticklabels(labels=['01-07/2017', '07-12/2017', '01-07/2018', '01-12/2018'], fontdict={'horizontalalignment': 'center'})\n",
    "    ax[i,0].set_ylim(-0.05, 1.05)\n",
    "    ax[i,1].set_ylim(-0.05, 1.05)\n",
    "    ax[i,0].set_title(f'Hypergraph {dataset.capitalize()}')\n",
    "    ax[i,1].set_title(f'Graph {dataset.capitalize()}')\n",
    "#     g.set_title(dataset.capitalize())\n",
    "# plt.suptitle(\"Overall Open-Mindedness Distributions\")\n",
    "plt.tight_layout()\n",
    "plt.show()\n",
    "plt.close()\n",
    "# plt.legend(loc='upper right', title='Leaning')\n",
    "# g.set_xticks(ticks=[0,5,11,17])\n",
    "# g.set_xticklabels(labels=['05-06/2018', '10-11/2018', '04-05/2019', '10-11/2019'], fontdict={'horizontalalignment': 'left'})\n",
    "# g.set_xlim(left=-1.5, right=19.5)"
   ]
  },
  {
   "cell_type": "code",
   "execution_count": 137,
   "metadata": {},
   "outputs": [
    {
     "data": {
      "image/png": "[encoded data removed]",
      "text/plain": [
       "<Figure size 1080x720 with 6 Axes>"
      ]
     },
     "metadata": {},
     "output_type": "display_data"
    }
   ],
   "source": [
    "import seaborn as sns\n",
    "fig, ax = plt.subplots(nrows=3, ncols=2, sharex=True, sharey=True, figsize=(15,10))\n",
    "for i, dataset in enumerate(sorted(hyp.dataset.unique())):\n",
    "    datah = hyp[hyp['dataset'] == dataset]\n",
    "    datan = net[net['dataset'] == dataset]\n",
    "    # sns.set_style(\"whitegrid\", rc={'axes.spines.right': False, 'axes.spines.top': False, 'figure.dpi':600, 'axes.xmargin': 0.15})\n",
    "    h = sns.boxplot(x=\"timestamp\", y=\"openMindedness\", hue = 'orientation', hue_order = ['Democrat', 'Moderate', 'Republican'], data=datah, ax=ax[i, 0], showfliers=False)\n",
    "    n = sns.boxplot(x=\"timestamp\", y=\"openMindedness\",  hue = 'orientation', hue_order = ['Democrat', 'Moderate', 'Republican'], data=datan, ax=ax[i, 1], showfliers=False)\n",
    "    ax[i,0].set_xlabel(\"\")\n",
    "    ax[i,1].set_xlabel(\"\")\n",
    "    ax[i,0].set_ylabel(r\"$\\widehat{CB}$\", fontsize = 20)\n",
    "    ax[i,1].set_ylabel(r\"$\\widehat{CB}$\", fontsize = 20)\n",
    "    ax[i,0].set_xticks(ticks=[0, 1, 2, 3])\n",
    "    ax[i,1].set_xticks(ticks=[0, 1, 2, 3])\n",
    "    ax[i,0].set_xticklabels(labels=['01-07/2017', '07-12/2017', '01-07/2018', '01-12/2018'], fontdict={'horizontalalignment': 'center'})\n",
    "    ax[i,1].set_xticklabels(labels=['01-07/2017', '07-12/2017', '01-07/2018', '01-12/2018'], fontdict={'horizontalalignment': 'center'})\n",
    "    ax[i,0].set_ylim(-0.05, 1.05)\n",
    "    ax[i,1].set_ylim(-0.05, 1.05)\n",
    "    ax[i,0].set_title(f'Hypergraph {dataset.capitalize()}')\n",
    "    ax[i,1].set_title(f'Graph {dataset.capitalize()}')\n",
    "    ax[i,0].legend_.remove()\n",
    "    ax[i,1].legend_.remove()\n",
    "ax[0,1].legend()\n",
    "ax[0,1].legend_.set_title(\"Leaning\")\n",
    "ax[0,1].legend(loc='upper right')\n",
    "#     g.set_title(dataset.capitalize())\n",
    "# plt.suptitle(\"Overall Open-Mindedness Distributions\")\n",
    "plt.tight_layout()\n",
    "plt.show()\n",
    "plt.close()\n",
    "# plt.legend(loc='upper right', title='Leaning')\n",
    "# g.set_xticks(ticks=[0,5,11,17])\n",
    "# g.set_xticklabels(labels=['05-06/2018', '10-11/2018', '04-05/2019', '10-11/2019'], fontdict={'horizontalalignment': 'left'})\n",
    "# g.set_xlim(left=-1.5, right=19.5)"
   ]
  },
  {
   "cell_type": "code",
   "execution_count": null,
   "metadata": {},
   "outputs": [],
   "source": [
    "print(data.openMindedness.min())\n",
    "print(data.openMindedness.max())"
   ]
  },
  {
   "cell_type": "code",
   "execution_count": null,
   "metadata": {},
   "outputs": [],
   "source": [
    "import seaborn as sns\n",
    "fig, ax = plt.subplots(nrows=1, ncols=3, sharex=True, sharey=True, figsize=(25,5))\n",
    "for i, dataset in enumerate(sorted(hyp.dataset.unique())):\n",
    "    data = hyp[hyp['dataset']==dataset]\n",
    "    # sns.set_style(\"whitegrid\", rc={'axes.spines.right': False, 'axes.spines.top': False, 'figure.dpi':600, 'axes.xmargin': 0.15})\n",
    "    g = sns.violinplot(x=\"timestamp\", y=\"openMindedness\", palette=['tab:orange'],data=data, ax=ax[i], cut=0)\n",
    "    g.set_xlabel(\"\")\n",
    "    g.set_ylabel(r\"$\\widehat{CB}$\", fontsize = 20)\n",
    "    g.set_xticks(ticks=[0, 1, 2, 3])\n",
    "    g.set_xticklabels(labels=['01-07/2017', '07-12/2017', '01-07/2018', '01-12/2018'], fontdict={'horizontalalignment': 'center'})\n",
    "    g.set_ylim(-0.1, 1.05)\n",
    "    g.set_title(dataset.capitalize())\n",
    "plt.suptitle(\"Overall Open-Mindedness Distributions\")\n",
    "plt.tight_layout()\n",
    "plt.show()\n",
    "plt.close()\n",
    "# plt.legend(loc='upper right', title='Leaning')\n",
    "# g.set_xticks(ticks=[0,5,11,17])\n",
    "# g.set_xticklabels(labels=['05-06/2018', '10-11/2018', '04-05/2019', '10-11/2019'], fontdict={'horizontalalignment': 'left'})\n",
    "# g.set_xlim(left=-1.5, right=19.5)"
   ]
  },
  {
   "cell_type": "code",
   "execution_count": null,
   "metadata": {},
   "outputs": [],
   "source": [
    "hyp.columns"
   ]
  },
  {
   "cell_type": "code",
   "execution_count": null,
   "metadata": {},
   "outputs": [],
   "source": [
    "fig, ax = plt.subplots(nrows=1, ncols=3, sharex=True, sharey=True, figsize=(30,10))\n",
    "for i, dataset in enumerate(sorted(hyp.dataset.unique())):\n",
    "    data = hyp[hyp['dataset']==dataset]\n",
    "    # sns.set_style(\"whitegrid\", rc={'axes.spines.right': False, 'axes.spines.top': False, 'figure.dpi':600, 'axes.xmargin': 0.15})\n",
    "    g = sns.boxplot(x=\"timestamp\", y=\"openMindedness\", hue='orientation', data=data, ax=ax[i])\n",
    "    g.set_xlabel(\"\")\n",
    "    g.set_ylabel(r\"$\\widehat{CB}$\", fontsize = 20)\n",
    "    g.set_xticks(ticks=[0, 1, 2, 3])\n",
    "    g.set_xticklabels(labels=['01-07/2017', '07-12/2017', '01-07/2018', '01-12/2018'], fontdict={'horizontalalignment': 'center'})\n",
    "    g.set_ylim(-0.05, 1.05)\n",
    "    g.set_title(dataset.capitalize())\n",
    "ax[0].legend_.remove()\n",
    "ax[1].legend_.remove()\n",
    "ax[2].legend_.set_title(\"Leaning\")\n",
    "ax[2].legend(loc='upper right', fontsize=20)\n",
    "\n",
    "plt.suptitle(\"Open-Mindedness Distributions\")\n",
    "plt.tight_layout()\n",
    "plt.show()\n",
    "plt.close()\n",
    "# g.set_xticks(ticks=[0,5,11,17])\n",
    "# g.set_xticklabels(labels=['05-06/2018', '10-11/2018', '04-05/2019', '10-11/2019'], fontdict={'horizontalalignment': 'left'})\n",
    "# g.set_xlim(left=-1.5, right=19.5)"
   ]
  },
  {
   "cell_type": "code",
   "execution_count": null,
   "metadata": {},
   "outputs": [],
   "source": [
    "fig, ax = plt.subplots(nrows=1, ncols=3, sharex=True, sharey=True, figsize=(30,7))\n",
    "for i, dataset in enumerate(sorted(hyp.dataset.unique())):\n",
    "    data = hyp[hyp['dataset']==dataset]\n",
    "    # sns.set_style(\"whitegrid\", rc={'axes.spines.right': False, 'axes.spines.top': False, 'figure.dpi':600, 'axes.xmargin': 0.15})\n",
    "    g = sns.violinplot(x=\"timestamp\", y=\"openMindedness\", hue='orientation', data=data, ax=ax[i], cut=0, density_norm = 'count')\n",
    "    g.set_xlabel(\"\")\n",
    "    g.set_ylabel(r\"$\\widehat{CB}$\", fontsize = 20)\n",
    "    g.set_xticks(ticks=[0, 1, 2, 3])\n",
    "    g.set_xticklabels(labels=['01-07/2017', '07-12/2017', '01-07/2018', '01-12/2018'], fontdict={'horizontalalignment': 'center'})\n",
    "    g.set_ylim(-0.05, 1.05)\n",
    "    g.set_title(dataset.capitalize())\n",
    "ax[0].legend_.remove()\n",
    "ax[1].legend_.remove()\n",
    "ax[2].legend_.set_title(\"Leaning\")\n",
    "ax[2].legend(loc='upper right')\n",
    "\n",
    "plt.suptitle(\"Open-Mindedness Distributions\")\n",
    "plt.tight_layout()\n",
    "plt.show()\n",
    "plt.close()\n",
    "# g.set_xticks(ticks=[0,5,11,17])\n",
    "# g.set_xticklabels(labels=['05-06/2018', '10-11/2018', '04-05/2019', '10-11/2019'], fontdict={'horizontalalignment': 'left'})\n",
    "# g.set_xlim(left=-1.5, right=19.5)\n"
   ]
  },
  {
   "cell_type": "code",
   "execution_count": null,
   "metadata": {},
   "outputs": [],
   "source": [
    "sns.set()\n",
    "sns.set_style(\"whitegrid\", rc={'axes.spines.right': False, 'axes.spines.top': False, 'figure.dpi':600, 'axes.xmargin': 0.15})\n",
    "fig, ax = plt.subplots(figsize=(17,5))\n",
    "g = sns.violinplot(x=\"timestamp\", y=\"openMindedness\", data=data[data['orientation']=='Democrat'], palette=['b'], alpha=0.6, linewidth=1.8, ax=ax, cut=0)\n",
    "g.set_xlabel(\"\")\n",
    "g.set_ylabel(r\"$\\widehat{CB}$\", fontsize = 20)\n",
    "g.set_xticks(ticks=[0, 1, 2, 3])\n",
    "g.set_xticklabels(labels=['01-07/2017', '07-12/2017', '01-07/2018', '01-12/2018'], fontdict={'horizontalalignment': 'center'})\n",
    "g.set_ylim(-0.05, 1.0)\n",
    "\n",
    "# g.set_xticks(ticks=[0,5,11,17])\n",
    "# g.set_xticklabels(labels=['05-06/2018', '10-11/2018', '04-05/2019', '10-11/2019'], fontdict={'horizontalalignment': 'center'})\n",
    "# g.set_xlim(left=-1.5, right=19.5)\n",
    "\n",
    "# sns.set()\n",
    "# sns.set_style(\"whitegrid\", rc={'axes.spines.right': False, 'axes.spines.top': False, 'figure.dpi':600, 'axes.xmargin': 0.15})\n",
    "# fig, ax = plt.subplots(figsize=(17,5))\n",
    "# g = sns.violinplot(x=\"date\", y=\"CB\", data=data[data['leaning']=='Democrat'], palette=['b'], alpha=0.6, linewidth=1.8, ax=ax)\n",
    "# g.set_xlabel(\"\")\n",
    "# g.set_ylabel(r\"$\\widehat{CB}$\", fontsize = 20)\n",
    "# g.set_xticks(ticks=[0, 1, 2, 3])\n",
    "# g.set_xticklabels(labels=['01-07/2017', '07-12/2017', '01-07/2018', '01-12/2018'], fontdict={'horizontalalignment': 'center'})\n",
    "# g.set_ylim(0.0, 1.0)\n",
    "# # g.set_xticks(ticks=[0,5,11,17])\n",
    "# # g.set_xticklabels(labels=['05-06/2018', '10-11/2018', '04-05/2019', '10-11/2019'], fontdict={'horizontalalignment': 'center'})\n",
    "# # g.set_xlim(left=-1.5, right=19.5)"
   ]
  },
  {
   "cell_type": "code",
   "execution_count": null,
   "metadata": {},
   "outputs": [],
   "source": [
    "sns.set()\n",
    "sns.set_style(\"whitegrid\", rc={'axes.spines.right': False, 'axes.spines.top': False, 'figure.dpi':600, 'axes.xmargin': 0.15})\n",
    "fig, ax = plt.subplots(figsize=(17,5))\n",
    "g = sns.violinplot(x=\"timestamp\", y=\"openMindedness\", data=data[data['orientation']=='Republican'], palette=['r'], alpha=0.6, linewidth=1.8, ax=ax, cut=0)\n",
    "g.set_xlabel(\"\")\n",
    "g.set_ylabel(r\"$\\widehat{CB}$\", fontsize = 20)\n",
    "g.set_xticks(ticks=[0, 1, 2, 3])\n",
    "g.set_xticklabels(labels=['01-07/2017', '07-12/2017', '01-07/2018', '01-12/2018'], fontdict={'horizontalalignment': 'center'})\n",
    "g.set_ylim(-0.05, 1.05)\n",
    "\n",
    "# g.set_xticks(ticks=[0,5,11,17])\n",
    "# g.set_xticklabels(labels=['05-06/2018', '10-11/2018', '04-05/2019', '10-11/2019'], fontdict={'horizontalalignment': 'center'})\n",
    "# g.set_xlim(left=-1.5, right=19.5)\n",
    "\n",
    "# sns.set()\n",
    "# sns.set_style(\"whitegrid\", rc={'axes.spines.right': False, 'axes.spines.top': False, 'figure.dpi':600, 'axes.xmargin': 0.15})\n",
    "# fig, ax = plt.subplots(figsize=(17,5))\n",
    "# g = sns.violinplot(x=\"date\", y=\"CB\", data=data[data['leaning']=='Republican'], palette=['r'], alpha=0.6, linewidth=1.8, ax=ax)\n",
    "# g.set_xlabel(\"\")\n",
    "# g.set_ylabel(r\"$\\widehat{CB}$\", fontsize = 20)\n",
    "# g.set_xticks(ticks=[0, 1, 2, 3])\n",
    "# g.set_xticklabels(labels=['01-07/2017', '07-12/2017', '01-07/2018', '01-12/2018'], fontdict={'horizontalalignment': 'center'})\n",
    "# g.set_ylim(0.0, 1.0)\n",
    "# # g.set_xticks(ticks=[0,5,11,17])\n",
    "# # g.set_xticklabels(labels=['05-06/2018', '10-11/2018', '04-05/2019', '10-11/2019'], fontdict={'horizontalalignment': 'center'})\n",
    "# # g.set_xlim(left=-1.5, right=19.5)"
   ]
  },
  {
   "cell_type": "code",
   "execution_count": null,
   "metadata": {},
   "outputs": [],
   "source": [
    "sns.set()\n",
    "sns.set_style(\"whitegrid\", rc={'axes.spines.right': False, 'axes.spines.top': False, 'figure.dpi':600, 'axes.xmargin': 0.15})\n",
    "fig, ax = plt.subplots(figsize=(17,5))\n",
    "g = sns.violinplot(x=\"timestamp\", y=\"openMindedness\", data=data[data['orientation']=='Moderate'], palette=['g'], alpha=0.6, linewidth=1.8, ax=ax, cut=0)\n",
    "g.set_xlabel(\"\")\n",
    "g.set_ylabel(r\"$\\widehat{CB}$\", fontsize = 20)\n",
    "g.set_xticks(ticks=[0, 1, 2, 3])\n",
    "g.set_xticklabels(labels=['01-07/2017', '07-12/2017', '01-07/2018', '01-12/2018'], fontdict={'horizontalalignment': 'center'})\n",
    "g.set_ylim(-0.05, 1.0)\n",
    "# g.set_xticks(ticks=[0,5,11,17])\n",
    "# g.set_xticklabels(labels=['05-06/2018', '10-11/2018', '04-05/2019', '10-11/2019'], fontdict={'horizontalalignment': 'center'})\n",
    "# g.set_xlim(left=-1.5, right=19.5)\n",
    "\n",
    "# sns.set()\n",
    "# sns.set_style(\"whitegrid\", rc={'axes.spines.right': False, 'axes.spines.top': False, 'figure.dpi':600, 'axes.xmargin': 0.15})\n",
    "# fig, ax = plt.subplots(figsize=(10,5))\n",
    "# g = sns.violinplot(x=\"date\", y=\"CB\", data=data[data['leaning']=='Moderate'], palette=['g'], linewidth=1.8, ax=ax)\n",
    "# g.set_xlabel(\"\")\n",
    "# g.set_ylabel(r\"$\\widehat{CB}$\", fontsize = 20)\n",
    "# g.set_xticks(ticks=[0, 1, 2, 3])\n",
    "# g.set_xticklabels(labels=['01-07/2017', '07-12/2017', '01-07/2018', '01-12/2018'], fontdict={'horizontalalignment': 'center'})\n",
    "# g.set_ylim(0.0, 1.0)\n",
    "# # g.set_xticks(ticks=[0,5,11,17])\n",
    "# # g.set_xticklabels(labels=['05-06/2018', '10-11/2018', '04-05/2019', '10-11/2019'], fontdict={'horizontalalignment': 'center'})\n",
    "# # g.set_xlim(left=-1.5, right=19.5)"
   ]
  },
  {
   "cell_type": "code",
   "execution_count": null,
   "metadata": {},
   "outputs": [],
   "source": [
    "import numpy as np\n",
    "labels=np.array([['01-07/2017', '07-12/2017'], ['01-07/2018', '01-12/2018']])"
   ]
  },
  {
   "cell_type": "code",
   "execution_count": null,
   "metadata": {},
   "outputs": [],
   "source": [
    "import seaborn as sns\n",
    "palette = {\n",
    "    'Democrat': 'tab:blue',\n",
    "    'Moderate': 'tab:green',\n",
    "    'Republican': 'tab:red',\n",
    "}\n",
    "sns.set_style(\"white\", rc={'axes.spines.right': False, 'axes.spines.top': False, 'figure.dpi':600, 'axes.xmargin': 0.15, 'xtick.labelsize': 'x-large'})\n",
    "fig, axes = plt.subplots(nrows=2, ncols=2, figsize=(10, 7), sharey=True)\n",
    "i = 0\n",
    "j = 0\n",
    "for timestamp in list(data.timestamp.unique()):\n",
    "    tmp = data[data['timestamp']==timestamp]\n",
    "    g = sns.histplot(bins=10, data=tmp, x='openMindedness', hue='orientation', palette=palette, ax=axes[i, j], alpha=0.5, stat='percent', common_norm=False, kde=True)\n",
    "    g.set_ylabel(\"% Users\", fontsize = 15)\n",
    "    g.set_xlabel(r\"$\\widehat{CB}$\", fontsize = 15)\n",
    "    g.set_title(f'{labels[i,j]}', fontsize = 15)\n",
    "    g.set_xlim(-0.1, 1.0)\n",
    "#     g.set_xticklabels(labels=[-0.2, 0.0, 0.2, 0.4, 0.6, 0.8], fontsize=15)\n",
    "    # yticklabels = g.get_yticks()\n",
    "    # g.set_yticklabels(labels = yticklabels, fontsize=15)\n",
    "    plt.setp(g.get_legend().get_texts(), fontsize='15') # for legend text\n",
    "    plt.setp(g.get_legend().get_title(), fontsize='15') # for legend text\n",
    "    plt.subplots_adjust(hspace=0.5)\n",
    "    if j < 1 or i > 0:\n",
    "        g.legend_.remove()\n",
    "    else:\n",
    "        axes[i,j].legend_.set_title(\"Leaning\")\n",
    "    j += 1\n",
    "    if j % 2 == 0:\n",
    "        i+=1\n",
    "        j = 0\n",
    "plt.show()\n",
    "plt.close()"
   ]
  },
  {
   "cell_type": "markdown",
   "metadata": {},
   "source": [
    "# Statistical tests"
   ]
  },
  {
   "cell_type": "code",
   "execution_count": null,
   "metadata": {},
   "outputs": [],
   "source": [
    "data"
   ]
  },
  {
   "cell_type": "code",
   "execution_count": null,
   "metadata": {},
   "outputs": [],
   "source": [
    "cols = pd.MultiIndex.from_tuples([(\"Dem vs. Rep\", \"ks-stat\"), \n",
    "                                  (\"Dem vs. Neutr\", \"ks-stat\"), \n",
    "                                  (\"Rep vs. Neutr\", \"ks-stat\"),\n",
    "                                  (\"Dem vs. Rep\", \"p-value\"), \n",
    "                                  (\"Dem vs. Neutr\", \"p-value\"), \n",
    "                                  (\"Rep vs. Neutr\", \"p-value\")])\n",
    "timestamps = [(time) for time in list(data.timestamp.unique())]\n",
    "multi_index = pd.Index(timestamps)\n",
    "stattest_df = pd.DataFrame(columns=cols,index=multi_index)\n",
    "\n"
   ]
  },
  {
   "cell_type": "code",
   "execution_count": null,
   "metadata": {},
   "outputs": [],
   "source": [
    "from scipy.stats import ks_2samp\n",
    "for timestamp in list(data.timestamp.unique()):\n",
    "    # to_append = []\n",
    "    # print(timestamp)\n",
    "    tmp = data[data['timestamp']==timestamp]\n",
    "    tmp = tmp[['openMindedness','orientation']]\n",
    "    leanings = list(tmp.orientation.unique())\n",
    "    d_data = {grp:tmp['openMindedness'][tmp.orientation == grp] for grp in leanings}\n",
    "    stat, p = ks_2samp(d_data['Democrat'], d_data['Republican'], alternative='two-sided', mode='auto')\n",
    "    alpha = 0.05\n",
    "    print(f'Comparing Democrat and Moderate distribution at time {timestamp}')\n",
    "    print('Statistics=%.10f, p=%.20f' % (stat, p))\n",
    "    stattest_df.loc[timestamp][('Dem vs. Rep', 'ks-stat')] = stat\n",
    "    stattest_df.loc[timestamp][('Dem vs. Rep', 'p-value')] = p\n",
    "    # to_append.append(stat, p)\n",
    "    if p > alpha:\n",
    "        print('Same distributions (fail to reject H0)')\n",
    "    stat, p = ks_2samp(d_data['Democrat'], d_data['Moderate'], alternative='two-sided', mode='auto')\n",
    "    alpha = 0.05\n",
    "    print(f'Comparing Democrat and Moderate distribution at time {timestamp}')\n",
    "    print('Statistics=%.10f, p=%.20f' % (stat, p))\n",
    "    stattest_df.loc[timestamp][('Dem vs. Neutr', 'ks-stat')] = stat\n",
    "    stattest_df.loc[timestamp][('Dem vs. Neutr', 'p-value')] = p\n",
    "    # to_append.append(stat, p)\n",
    "    if p > alpha:\n",
    "        print('Same distributions (fail to reject H0)')\n",
    "    stat, p = ks_2samp(d_data['Republican'], d_data['Moderate'], alternative='two-sided', mode='auto')\n",
    "    alpha = 0.05\n",
    "    print(f'Comparing Republican and Moderate distribution at time {timestamp}')\n",
    "    print('Statistics=%.3f, p=%.3f' % (stat, p))\n",
    "    stattest_df.loc[timestamp][('Rep vs. Neutr', 'ks-stat')] = stat\n",
    "    stattest_df.loc[timestamp][('Rep vs. Neutr', 'p-value')] = p\n",
    "    if p > alpha:\n",
    "        print('Same distributions (fail to reject H0)')\n",
    "    # data.append(to_append)"
   ]
  },
  {
   "cell_type": "code",
   "execution_count": null,
   "metadata": {},
   "outputs": [],
   "source": [
    "stattest_df"
   ]
  },
  {
   "cell_type": "code",
   "execution_count": null,
   "metadata": {},
   "outputs": [],
   "source": [
    "from scipy.stats import ks_2samp\n",
    "for timestamp in list(data.timestamp.unique()):\n",
    "    tmp = data[data['timestamp']==timestamp]\n",
    "    tmp = tmp[['openMindedness','orientation']]\n",
    "    leanings = list(tmp.orientation.unique())\n",
    "    d_data = {grp:tmp['openMindedness'][tmp.orientation == grp] for grp in leanings}\n",
    "    stat, p = ks_2samp(d_data['Democrat'], d_data['Republican'], alternative='less', mode='auto')\n",
    "    alpha = 0.05\n",
    "    if p > alpha:\n",
    "        print(f'Comparing Republican and Moderate distribution at time {timestamp}')\n",
    "        print('Statistics=%.3f, p=%.3f' % (stat, p))\n",
    "        print('Same distributions (fail to reject H0)')\n",
    "    stat, p = ks_2samp(d_data['Democrat'], d_data['Moderate'], alternative='less', mode='auto')\n",
    "    alpha = 0.05\n",
    "    if p > alpha:\n",
    "        print(f'Comparing Republican and Moderate distribution at time {timestamp}')\n",
    "        print('Statistics=%.3f, p=%.3f' % (stat, p))\n",
    "        print('Same distributions (fail to reject H0)')\n",
    "    stat, p = ks_2samp(d_data['Republican'], d_data['Moderate'], alternative='less', mode='auto')\n",
    "    alpha = 0.05\n",
    "    if p > alpha:\n",
    "        print(f'Comparing Republican and Moderate distribution at time {timestamp}')\n",
    "        print('Statistics=%.3f, p=%.3f' % (stat, p))\n",
    "        print('Same distributions (fail to reject H0)')"
   ]
  },
  {
   "cell_type": "markdown",
   "metadata": {},
   "source": [
    "# Analisi stabilità OpenMindedness"
   ]
  },
  {
   "cell_type": "markdown",
   "metadata": {},
   "source": [
    "### Standard deviation"
   ]
  },
  {
   "cell_type": "code",
   "execution_count": null,
   "metadata": {},
   "outputs": [],
   "source": [
    "grouped = data.groupby(['node'], as_index=False).agg({'openMindedness':['mean', 'std']})\n",
    "grouped = grouped.dropna(subset=[('openMindedness', 'std')])\n",
    "grouped.reset_index()\n",
    "grouped.head()"
   ]
  },
  {
   "cell_type": "code",
   "execution_count": null,
   "metadata": {},
   "outputs": [],
   "source": [
    "newdf = pd.DataFrame()\n",
    "newdf['node'] = grouped[(   'node',     '')]\n",
    "newdf['mean_eps'] = grouped[('openMindedness', 'mean')]\n",
    "newdf['mean_std'] = grouped[('openMindedness', 'std')]\n",
    "newdf.head()"
   ]
  },
  {
   "cell_type": "code",
   "execution_count": null,
   "metadata": {},
   "outputs": [],
   "source": [
    "sns.set_style(\"whitegrid\", rc={'axes.spines.right': False, 'axes.spines.top': False, 'figure.dpi':600, 'axes.xmargin': 0.15})\n",
    "fig, ax = plt.subplots(figsize=(8,4))\n",
    "g = sns.histplot(data=newdf, x='mean_std', bins=20, kde=True, ax=ax, alpha=1.0, stat='probability')\n",
    "g.set_ylabel(\"% Users\", fontsize = 20)\n",
    "g.set_xlabel(r\"$\\widehat{CB}$ user-level standard deviation\", fontsize = 20)"
   ]
  },
  {
   "cell_type": "markdown",
   "metadata": {},
   "source": [
    "# Distributions"
   ]
  },
  {
   "cell_type": "code",
   "execution_count": null,
   "metadata": {},
   "outputs": [],
   "source": [
    "g = sns.scatterplot(data=data[data['openMindedness']>0], x='openMindedness', y='opt', alpha=0.5, color='b')\n",
    "g.set_xlabel(r\"$\\widehat{CB}$\", fontsize = 20)\n",
    "g.set_ylabel(\"Opinion (t)\")"
   ]
  },
  {
   "cell_type": "code",
   "execution_count": null,
   "metadata": {},
   "outputs": [],
   "source": [
    "g = sns.scatterplot(data=data[data['openMindedness']>0], x='openMindedness', y='opt1', alpha=0.8, color='b')\n",
    "g.set_xlabel(r\"$\\widehat{CB}$\", fontsize = 20)\n",
    "g.set_ylabel(\"Opinion (t+1)\")"
   ]
  },
  {
   "cell_type": "code",
   "execution_count": null,
   "metadata": {
    "scrolled": false
   },
   "outputs": [],
   "source": [
    "import seaborn as sns\n",
    "palette = {\n",
    "    'Democrat': 'tab:blue',\n",
    "    'Moderate': 'tab:green',\n",
    "    'Republican': 'tab:red',\n",
    "}\n",
    "sns.set_style(\"white\", rc={'axes.spines.right': False, 'axes.spines.top': False, 'figure.dpi':600, 'axes.xmargin': 0.15, 'xtick.labelsize': 'x-large'})\n",
    "fig, axes = plt.subplots(nrows=2, ncols=2, figsize=(10, 7), sharey=True)\n",
    "i = 0\n",
    "j = 0\n",
    "for timestamp in list(data.timestamp.unique()):\n",
    "    tmp = data[data['timestamp']==timestamp]\n",
    "    # g = sns.histplot(data=tmp, x='opt', kde=True, bins=30, hue='orientation', palette=palette, alpha=0.2, ax=axes[i, j], stat='probability', common_norm=False)\n",
    "    g = sns.histplot(data=tmp, x='opt', kde=True, color='black', bins='auto', ax=axes[i, j], stat='probability', common_norm=False, alpha=0.8)\n",
    "    g.set_ylabel(\"% Users\", fontsize = 15)\n",
    "    g.set_xlabel(r\"Leaning\", fontsize = 15)\n",
    "    g.set_title(f'{labels[i,j]}', fontsize = 15)\n",
    "    g.set_xticklabels(labels=[-0.2, 0.0, 0.2, 0.4, 0.6, 0.8], fontsize=15)\n",
    "    for rectangle in g.patches:\n",
    "        if rectangle.get_x() < 0.4:\n",
    "            rectangle.set_facecolor('tab:blue')\n",
    "        elif rectangle.get_x() > 0.6:\n",
    "            rectangle.set_facecolor('tab:red')\n",
    "        else:\n",
    "            rectangle.set_facecolor('tab:green')\n",
    "    plt.subplots_adjust(hspace=0.5)\n",
    "\n",
    "    j += 1\n",
    "    if j % 2 == 0:\n",
    "        i+=1\n",
    "        j = 0\n",
    "plt.show()\n",
    "plt.close()"
   ]
  },
  {
   "cell_type": "markdown",
   "metadata": {},
   "source": [
    "## Error distribution log scale"
   ]
  },
  {
   "cell_type": "code",
   "execution_count": null,
   "metadata": {},
   "outputs": [],
   "source": [
    "data.columns"
   ]
  },
  {
   "cell_type": "code",
   "execution_count": null,
   "metadata": {
    "scrolled": false
   },
   "outputs": [],
   "source": [
    "palette = {\n",
    "    'Democrat': 'tab:blue',\n",
    "    'Moderate': 'tab:green',\n",
    "    'Republican': 'tab:red',\n",
    "}\n",
    "sns.set_style(\"white\", rc={'axes.spines.right': False, 'axes.spines.top': False, 'figure.dpi':600, 'axes.xmargin': 0.15, 'xtick.labelsize': 'x-large'})\n",
    "fig, axes = plt.subplots(nrows=2, ncols=2, figsize=(10, 7), sharey=True)\n",
    "i = 0\n",
    "j = 0\n",
    "for timestamp in list(data.timestamp.unique()):\n",
    "    tmp = data[data['timestamp']==timestamp]\n",
    "    g = sns.histplot(data=tmp, x='error', kde=True, bins=30, hue='orientation', palette=palette, alpha=0.2, ax=axes[i, j], stat='probability', common_norm=False)\n",
    "    # g = sns.histplot(data=tmp, x='opt', kde=True, color='black', bins=30, ax=axes[i, j], stat='probability', common_norm=False, alpha=0.8)\n",
    "    g.set_ylabel(\"% Users\", fontsize = 15)\n",
    "    g.set_xlabel(r\"Estimation error\", fontsize = 15)\n",
    "    g.set_title(f'{labels[i,j]}', fontsize = 15)\n",
    "#     g.set_xticklabels(labels=[-0.2, 0.0, 0.2, 0.4, 0.6, 0.8], fontsize=15)\n",
    "    # yticklabels = g.get_yticks()\n",
    "    # g.set_yticklabels(labels = yticklabels, fontsize=15)\n",
    "    plt.setp(g.get_legend().get_texts(), fontsize='15') # for legend text\n",
    "    plt.setp(g.get_legend().get_title(), fontsize='15') # for legend text\n",
    "    plt.subplots_adjust(hspace=0.5)\n",
    "    if j < 1 or i > 0:\n",
    "        g.legend_.remove()\n",
    "    else:\n",
    "        axes[i,j].legend_.set_title(\"Leaning\")\n",
    "    j += 1\n",
    "    if j % 2 == 0:\n",
    "        i+=1\n",
    "        j = 0\n",
    "plt.show()\n",
    "plt.close()"
   ]
  },
  {
   "cell_type": "markdown",
   "metadata": {},
   "source": [
    "## Error logscale distribution"
   ]
  },
  {
   "cell_type": "code",
   "execution_count": null,
   "metadata": {
    "scrolled": false
   },
   "outputs": [],
   "source": [
    "palette = {\n",
    "    'Democrat': 'tab:blue',\n",
    "    'Moderate': 'tab:green',\n",
    "    'Republican': 'tab:red',\n",
    "}\n",
    "sns.set_style(\"white\", rc={'axes.spines.right': False, 'axes.spines.top': False, 'figure.dpi':600, 'axes.xmargin': 0.15, 'xtick.labelsize': 'x-large'})\n",
    "fig, axes = plt.subplots(nrows=2, ncols=2, figsize=(10, 7))\n",
    "i = 0\n",
    "j = 0\n",
    "\n",
    "for timestamp in list(data.timestamp.unique()):\n",
    "    tmp = data[data['timestamp']==timestamp]\n",
    "    g = sns.histplot(data=tmp, x='error', kde=True, bins=30, hue='orientation', hue_order=['Democrat', 'Moderate', 'Republican'], palette=palette, alpha=0.2, ax=axes[i, j], stat='probability', common_norm=False)\n",
    "    # g = sns.histplot(data=tmp, x='opt', kde=True, color='black', bins=30, ax=axes[i, j], stat='probability', common_norm=False, alpha=0.8)\n",
    "    g.set_ylabel(\"% Users\", fontsize = 15)\n",
    "    g.set_xlabel(r\"Error (log)\", fontsize = 15)\n",
    "    g.set_title(f'{labels[i,j]}', fontsize = 15)\n",
    "    g.set(xscale='log')\n",
    "    # g.set_xticklabels(labels=[-0.2, 0.0, 0.2, 0.4, 0.6, 0.8], fontsize=15)\n",
    "    # yticklabels = g.get_yticks()\n",
    "    # g.set_yticklabels(labels = yticklabels, fontsize=15)\n",
    "    plt.setp(g.get_legend().get_texts(), fontsize='15') # for legend text\n",
    "    plt.setp(g.get_legend().get_title(), fontsize='15') # for legend text\n",
    "    plt.subplots_adjust(hspace=1.0)\n",
    "    if j < 1 or i > 0:\n",
    "        g.legend_.remove()\n",
    "    else:\n",
    "        axes[i,j].legend_.set_title(\"Leaning\")\n",
    "    j += 1\n",
    "    if j % 2 == 0:\n",
    "        i+=1\n",
    "        j = 0\n",
    "plt.show()\n",
    "plt.close()"
   ]
  },
  {
   "cell_type": "code",
   "execution_count": null,
   "metadata": {},
   "outputs": [],
   "source": [
    "data.error.mean()"
   ]
  },
  {
   "cell_type": "markdown",
   "metadata": {},
   "source": [
    "# Mean values and standard deviations"
   ]
  },
  {
   "cell_type": "code",
   "execution_count": null,
   "metadata": {},
   "outputs": [],
   "source": [
    "palette = {\n",
    "    'Democrat': 'tab:blue',\n",
    "    'Moderate': 'tab:green',\n",
    "    'Republican': 'tab:red',\n",
    "}\n",
    "for attribute in ['openMindedness']:\n",
    "    fig, axes = plt.subplots(figsize=(12, 3), dpi=600, nrows=1, ncols=2, sharey = True)\n",
    "\n",
    "    f = sns.lineplot(x=\"timestamp\", y=attribute, data=data, ax=axes[0])\n",
    "#     f.set_xticks(ticks=[0,5,11,17])\n",
    "#     f.set_xticklabels(labels=['05-06/2018', '10-11/2018', '04-05/2019', '10-11/2019'], fontdict={'horizontalalignment': 'right'})\n",
    "#     f.set_xlim(left=-1.5, right=23.5)\n",
    "    f.set_xlabel(\"\")\n",
    "    f.set_xticks(ticks=[0, 1, 2, 3])\n",
    "    f.set_xticklabels(labels=['01-07/2017', '07-12/2017', '01-07/2018', '01-12/2018'], fontdict={'horizontalalignment': 'center'})\n",
    "\n",
    "    g = sns.lineplot(x=\"timestamp\", y=attribute, data=data, hue='orientation', hue_order=['Democrat', 'Moderate', 'Republican'], ax = axes[1], palette=palette)\n",
    "#     g.set_xticks(ticks=[0,5,11,17])\n",
    "#     g.set_xticklabels(labels=['05-06/2018', '10-11/2018', '04-05/2019', '10-11/2019'], fontdict={'horizontalalignment': 'right'})\n",
    "#     g.set_xlim(left=-1.5, right=23.5)\n",
    "#     g.set_ylim(bottom=0.0, top=1.0)\n",
    "    g.set_xlabel(\"\")\n",
    "#     g.set_xticks(ticks=[0, 1, 2, 3])\n",
    "#     g.set_xticklabels(labels=['01-07/2017', '07-12/2017', '01-07/2018', '01-12/2018'], fontdict={'horizontalalignment': 'center'})\n",
    "\n",
    "    fig.suptitle(f'{attribute}: mean (overall and by political leaning)')\n",
    "    \n",
    "    plt.show()"
   ]
  },
  {
   "cell_type": "code",
   "execution_count": null,
   "metadata": {},
   "outputs": [],
   "source": [
    "palette = {\n",
    "    'Democrat': 'tab:blue',\n",
    "    'Moderate': 'tab:green',\n",
    "    'Republican': 'tab:red',\n",
    "}\n",
    "for attribute in ['homophily']:\n",
    "    fig, axes = plt.subplots(figsize=(12, 3), dpi=600, nrows=1, ncols=2, sharey = True)\n",
    "\n",
    "    f = sns.lineplot(x=\"timestamp\", y=attribute, data=data, ax=axes[0])\n",
    "#     f.set_xticks(ticks=[0,5,11,17])\n",
    "#     f.set_xticklabels(labels=['05-06/2018', '10-11/2018', '04-05/2019', '10-11/2019'], fontdict={'horizontalalignment': 'right'})\n",
    "#     f.set_xlim(left=-1.5, right=23.5)\n",
    "    f.set_xlabel(\"\")\n",
    "    f.set_xticks(ticks=[0, 1, 2, 3])\n",
    "    f.set_xticklabels(labels=['01-07/2017', '07-12/2017', '01-07/2018', '01-12/2018'], fontdict={'horizontalalignment': 'center'})\n",
    "\n",
    "    g = sns.lineplot(x=\"timestamp\", y=attribute, data=data, hue='orientation', hue_order=['Democrat', 'Moderate', 'Republican'], ax = axes[1], palette=palette)\n",
    "#     g.set_xticks(ticks=[0,5,11,17])\n",
    "#     g.set_xticklabels(labels=['05-06/2018', '10-11/2018', '04-05/2019', '10-11/2019'], fontdict={'horizontalalignment': 'right'})\n",
    "#     g.set_xlim(left=-1.5, right=23.5)\n",
    "#     g.set_ylim(bottom=0.0, top=1.0)\n",
    "    g.set_xlabel(\"\")\n",
    "#     g.set_xticks(ticks=[0, 1, 2, 3])\n",
    "#     g.set_xticklabels(labels=['01-07/2017', '07-12/2017', '01-07/2018', '01-12/2018'], fontdict={'horizontalalignment': 'center'})\n",
    "\n",
    "    fig.suptitle(f'{attribute}: mean (overall and by political leaning)')\n",
    "    \n",
    "    plt.show()"
   ]
  },
  {
   "cell_type": "markdown",
   "metadata": {},
   "source": [
    "# Scatterplots"
   ]
  },
  {
   "cell_type": "code",
   "execution_count": null,
   "metadata": {},
   "outputs": [],
   "source": [
    "palette = {\n",
    "    'Democrat': 'tab:blue',\n",
    "    'Moderate': 'tab:green',\n",
    "    'Republican': 'tab:red',\n",
    "}"
   ]
  },
  {
   "cell_type": "code",
   "execution_count": null,
   "metadata": {},
   "outputs": [],
   "source": [
    "palette = {\n",
    "    'Democrat': 'tab:blue',\n",
    "    'Moderate': 'tab:green',\n",
    "    'Republican': 'tab:red',\n",
    "}\n",
    "sns.set_style(\"white\", rc={'axes.spines.right': False, 'axes.spines.top': False, 'figure.dpi':600, 'axes.xmargin': 0.15, 'xtick.labelsize': 'x-large'})\n",
    "fig, axes = plt.subplots(nrows=2, ncols=2, figsize=(10, 7), sharex=True, sharey=True)\n",
    "i = 0\n",
    "j = 0\n",
    "for timestamp in list(data.timestamp.unique()):\n",
    "    tmp = data[data['timestamp']==timestamp]\n",
    "    g = sns.scatterplot(data=tmp, x='opt', y = 'openMindedness', hue='orientation', hue_order=['Democrat', 'Moderate', 'Republican'], palette=palette, alpha=0.5, ax=axes[i, j])    # g = sns.histplot(data=tmp, x='opt', kde=True, color='black', bins=30, ax=axes[i, j], stat='probability', common_norm=False, alpha=0.8)\n",
    "    g.set_ylabel(r\"$\\widehat{CB}$\", fontsize = 20)\n",
    "    g.set_xlabel(\"Opinion (t)\")\n",
    "    # g.set_ylabel(\"% Users\", fontsize = 15)\n",
    "    # g.set_xlabel(r\"Error (log)\", fontsize = 15)\n",
    "    # g.set_title(f'{timestamp}', fontsize = 15)\n",
    "    # g.set(xscale='log')\n",
    "    # g.set_xticklabels(labels=[-0.2, 0.0, 0.2, 0.4, 0.6, 0.8], fontsize=15)\n",
    "    # yticklabels = g.get_yticks()\n",
    "    # g.set_yticklabels(labels = yticklabels, fontsize=15)\n",
    "    # plt.setp(g.get_legend().get_texts(), fontsize='15') # for legend text\n",
    "    # plt.setp(g.get_legend().get_title(), fontsize='15') # for legend text\n",
    "    plt.subplots_adjust(hspace=0.3)\n",
    "    if j < 1 or i > 0:\n",
    "        g.legend_.remove()\n",
    "    else:\n",
    "        axes[i,j].legend_.set_title(\"Leaning\")\n",
    "    j += 1\n",
    "    if j % 2 == 0:\n",
    "        i+=1\n",
    "        j = 0\n",
    "plt.show()\n",
    "plt.close()"
   ]
  },
  {
   "cell_type": "code",
   "execution_count": null,
   "metadata": {},
   "outputs": [],
   "source": [
    "palette = {\n",
    "    'Democrat': 'tab:blue',\n",
    "    'Moderate': 'tab:green',\n",
    "    'Republican': 'tab:red',\n",
    "}\n",
    "sns.set_style(\"white\", rc={'axes.spines.right': False, 'axes.spines.top': False, 'figure.dpi':600, 'axes.xmargin': 0.15, 'xtick.labelsize': 'x-large'})\n",
    "fig, axes = plt.subplots(nrows=2, ncols=2, figsize=(10, 7), sharex=True, sharey=True)\n",
    "i = 0\n",
    "j = 0\n",
    "for timestamp in list(data.timestamp.unique()):\n",
    "    tmp = data[data['timestamp']==timestamp]\n",
    "    g = sns.scatterplot(data=tmp, x='opt1', y = 'openMindedness', hue='orientation', hue_order=['Democrat', 'Moderate', 'Republican'], palette=palette, alpha=0.5, ax=axes[i, j])    # g = sns.histplot(data=tmp, x='opt', kde=True, color='black', bins=30, ax=axes[i, j], stat='probability', common_norm=False, alpha=0.8)\n",
    "    g.set_ylabel(r\"$\\widehat{CB}$\", fontsize = 20)\n",
    "    g.set_xlabel(\"Opinion (t+1)\")\n",
    "    # g.set_ylabel(\"% Users\", fontsize = 15)\n",
    "    # g.set_xlabel(r\"Error (log)\", fontsize = 15)\n",
    "    # g.set_title(f'{timestamp}', fontsize = 15)\n",
    "    # g.set(xscale='log')\n",
    "    # g.set_xticklabels(labels=[-0.2, 0.0, 0.2, 0.4, 0.6, 0.8], fontsize=15)\n",
    "    # yticklabels = g.get_yticks()\n",
    "    # g.set_yticklabels(labels = yticklabels, fontsize=15)\n",
    "    # plt.setp(g.get_legend().get_texts(), fontsize='15') # for legend text\n",
    "    # plt.setp(g.get_legend().get_title(), fontsize='15') # for legend text\n",
    "    plt.subplots_adjust(hspace=0.3)\n",
    "    if j < 1 or i > 0:\n",
    "        g.legend_.remove()\n",
    "    else:\n",
    "        axes[i,j].legend_.set_title(\"Leaning (t)\")\n",
    "    j += 1\n",
    "    if j % 2 == 0:\n",
    "        i+=1\n",
    "        j = 0\n",
    "plt.show()\n",
    "plt.close()"
   ]
  },
  {
   "cell_type": "code",
   "execution_count": null,
   "metadata": {},
   "outputs": [],
   "source": [
    "palette = {\n",
    "    'Democrat': 'tab:blue',\n",
    "    'Moderate': 'tab:green',\n",
    "    'Republican': 'tab:red',\n",
    "}\n",
    "sns.set_style(\"white\", rc={'axes.spines.right': False, 'axes.spines.top': False, 'figure.dpi':600, 'axes.xmargin': 0.15, 'xtick.labelsize': 'x-large'})\n",
    "fig, axes = plt.subplots(nrows=2, ncols=2, figsize=(10, 7), sharex=True, sharey=True)\n",
    "i = 0\n",
    "j = 0\n",
    "for timestamp in list(data.timestamp.unique()):\n",
    "    tmp = data[data['timestamp']==timestamp]\n",
    "    g = sns.scatterplot(data=tmp, x='opChange', y = 'openMindedness', hue='orientation', hue_order=['Democrat', 'Moderate', 'Republican'], palette=palette, alpha=0.5, ax=axes[i, j])    # g = sns.histplot(data=tmp, x='opt', kde=True, color='black', bins=30, ax=axes[i, j], stat='probability', common_norm=False, alpha=0.8)\n",
    "    g.set_ylabel(r\"$\\widehat{CB}$\", fontsize = 20)\n",
    "    g.set_xlabel(\"Opinion change\")\n",
    "    # g.set_ylabel(\"% Users\", fontsize = 15)\n",
    "    # g.set_xlabel(r\"Error (log)\", fontsize = 15)\n",
    "    # g.set_title(f'{timestamp}', fontsize = 15)\n",
    "    # g.set(xscale='log')\n",
    "    # g.set_xticklabels(labels=[-0.2, 0.0, 0.2, 0.4, 0.6, 0.8], fontsize=15)\n",
    "    # yticklabels = g.get_yticks()\n",
    "    # g.set_yticklabels(labels = yticklabels, fontsize=15)\n",
    "    # plt.setp(g.get_legend().get_texts(), fontsize='15') # for legend text\n",
    "    # plt.setp(g.get_legend().get_title(), fontsize='15') # for legend text\n",
    "    plt.subplots_adjust(hspace=0.3)\n",
    "    if j < 1 or i > 0:\n",
    "        g.legend_.remove()\n",
    "    else:\n",
    "        axes[i,j].legend_.set_title(\"Leaning\")\n",
    "    j += 1\n",
    "    if j % 2 == 0:\n",
    "        i+=1\n",
    "        j = 0\n",
    "plt.show()\n",
    "plt.close()\n"
   ]
  },
  {
   "cell_type": "code",
   "execution_count": null,
   "metadata": {},
   "outputs": [],
   "source": [
    "palette = {\n",
    "    'Democrat': 'tab:blue',\n",
    "    'Moderate': 'tab:green',\n",
    "    'Republican': 'tab:red',\n",
    "}\n",
    "sns.set_style(\"white\", rc={'axes.spines.right': False, 'axes.spines.top': False, 'figure.dpi':600, 'axes.xmargin': 0.15, 'xtick.labelsize': 'x-large'})\n",
    "fig, axes = plt.subplots(nrows=2, ncols=2, figsize=(10, 7), sharex=True, sharey=True)\n",
    "i = 0\n",
    "j = 0\n",
    "for timestamp in list(data.timestamp.unique()):\n",
    "    tmp = data[data['timestamp']==timestamp]\n",
    "    g = sns.scatterplot(data=tmp, x='opt', y = 'opChange', hue='orientation', hue_order=['Democrat', 'Moderate', 'Republican'], palette=palette, alpha=0.5, ax=axes[i, j])    # g = sns.histplot(data=tmp, x='opt', kde=True, color='black', bins=30, ax=axes[i, j], stat='probability', common_norm=False, alpha=0.8)\n",
    "    g.set_ylabel(\"Opinion change\")\n",
    "    g.set_xlabel(\"Opinion (t)\")\n",
    "    # g.set_ylabel(\"% Users\", fontsize = 15)\n",
    "    # g.set_xlabel(r\"Error (log)\", fontsize = 15)\n",
    "    # g.set_title(f'{timestamp}', fontsize = 15)\n",
    "    # g.set(xscale='log')\n",
    "    # g.set_xticklabels(labels=[-0.2, 0.0, 0.2, 0.4, 0.6, 0.8], fontsize=15)\n",
    "    # yticklabels = g.get_yticks()\n",
    "    # g.set_yticklabels(labels = yticklabels, fontsize=15)\n",
    "    # plt.setp(g.get_legend().get_texts(), fontsize='15') # for legend text\n",
    "    # plt.setp(g.get_legend().get_title(), fontsize='15') # for legend text\n",
    "    plt.subplots_adjust(hspace=0.3, wspace=0.3)\n",
    "    if j < 1 or i > 0:\n",
    "        g.legend_.remove()\n",
    "    else:\n",
    "        axes[i,j].legend_.set_title(\"Leaning\")\n",
    "    j += 1\n",
    "    if j % 2 == 0:\n",
    "        i+=1\n",
    "        j = 0\n",
    "plt.show()\n",
    "plt.close()\n"
   ]
  },
  {
   "cell_type": "code",
   "execution_count": null,
   "metadata": {
    "scrolled": true
   },
   "outputs": [],
   "source": [
    "palette = {\n",
    "    'Democrat': 'tab:blue',\n",
    "    'Moderate': 'tab:green',\n",
    "    'Republican': 'tab:red',\n",
    "}\n",
    "sns.set_style(\"white\", rc={'axes.spines.right': False, 'axes.spines.top': False, 'figure.dpi':600, 'axes.xmargin': 0.15, 'xtick.labelsize': 'x-large'})\n",
    "fig, axes = plt.subplots(nrows=2, ncols=2, figsize=(10, 7), sharex=True, sharey=True)\n",
    "i = 0\n",
    "j = 0\n",
    "for timestamp in list(data.timestamp.unique()):\n",
    "    tmp = data[data['timestamp']==timestamp]\n",
    "    g = sns.scatterplot(data=tmp, x='opt1', y = 'opChange', hue='orientation', hue_order=['Democrat', 'Moderate', 'Republican'], palette=palette, alpha=0.5, ax=axes[i, j])    # g = sns.histplot(data=tmp, x='opt', kde=True, color='black', bins=30, ax=axes[i, j], stat='probability', common_norm=False, alpha=0.8)\n",
    "    g.set_ylabel(\"Opinion change\")\n",
    "    g.set_xlabel(\"Opinion (t+1)\")\n",
    "    # g.set_ylabel(\"% Users\", fontsize = 15)\n",
    "    # g.set_xlabel(r\"Error (log)\", fontsize = 15)\n",
    "    # g.set_title(f'{timestamp}', fontsize = 15)\n",
    "    # g.set(xscale='log')\n",
    "    # g.set_xticklabels(labels=[-0.2, 0.0, 0.2, 0.4, 0.6, 0.8], fontsize=15)\n",
    "    # yticklabels = g.get_yticks()\n",
    "    # g.set_yticklabels(labels = yticklabels, fontsize=15)\n",
    "    # plt.setp(g.get_legend().get_texts(), fontsize='15') # for legend text\n",
    "    # plt.setp(g.get_legend().get_title(), fontsize='15') # for legend text\n",
    "    plt.subplots_adjust(hspace=0.3, wspace=0.3)\n",
    "    if j < 1 or i > 0:\n",
    "        g.legend_.remove()\n",
    "    else:\n",
    "        axes[i,j].legend_.set_title(\"Leaning (t)\")\n",
    "    j += 1\n",
    "    if j % 2 == 0:\n",
    "        i+=1\n",
    "        j = 0\n",
    "plt.show()\n",
    "plt.close()"
   ]
  },
  {
   "cell_type": "code",
   "execution_count": null,
   "metadata": {},
   "outputs": [],
   "source": [
    "data.columns"
   ]
  },
  {
   "cell_type": "code",
   "execution_count": null,
   "metadata": {},
   "outputs": [],
   "source": [
    "palette = {\n",
    "    'Democrat': 'tab:blue',\n",
    "    'Moderate': 'tab:green',\n",
    "    'Republican': 'tab:red',\n",
    "}\n",
    "sns.set_style(\"white\", rc={'axes.spines.right': False, 'axes.spines.top': False, 'figure.dpi':600, 'axes.xmargin': 0.15, 'xtick.labelsize': 'x-large'})\n",
    "fig, axes = plt.subplots(nrows=2, ncols=2, figsize=(10, 7), sharex=True, sharey=True)\n",
    "i = 0\n",
    "j = 0\n",
    "for timestamp in list(data.timestamp.unique()):\n",
    "    tmp = data[data['timestamp']==timestamp]\n",
    "    g = sns.scatterplot(data=tmp, x='homophily', y = 'openMindedness', hue='orientation', hue_order=['Democrat', 'Moderate', 'Republican'], palette=palette, alpha=0.2, ax=axes[i, j])    # g = sns.histplot(data=tmp, x='opt', kde=True, color='black', bins=30, ax=axes[i, j], stat='probability', common_norm=False, alpha=0.8)\n",
    "    g.set_ylabel(\"open mindedness\")\n",
    "    g.set_xlabel(\"homophily\")\n",
    "    # g.set_ylabel(\"% Users\", fontsize = 15)\n",
    "    # g.set_xlabel(r\"Error (log)\", fontsize = 15)\n",
    "    # g.set_title(f'{timestamp}', fontsize = 15)\n",
    "    # g.set(xscale='log')\n",
    "    # g.set_xticklabels(labels=[-0.2, 0.0, 0.2, 0.4, 0.6, 0.8], fontsize=15)\n",
    "    # yticklabels = g.get_yticks()\n",
    "    # g.set_yticklabels(labels = yticklabels, fontsize=15)\n",
    "    # plt.setp(g.get_legend().get_texts(), fontsize='15') # for legend text\n",
    "    # plt.setp(g.get_legend().get_title(), fontsize='15') # for legend text\n",
    "    plt.subplots_adjust(hspace=0.3, wspace=0.3)\n",
    "    if j < 1 or i > 0:\n",
    "        g.legend_.remove()\n",
    "    else:\n",
    "        axes[i,j].legend_.set_title(\"Leaning (t)\")\n",
    "    j += 1\n",
    "    if j % 2 == 0:\n",
    "        i+=1\n",
    "        j = 0\n",
    "plt.show()\n",
    "plt.close()"
   ]
  },
  {
   "cell_type": "code",
   "execution_count": null,
   "metadata": {},
   "outputs": [],
   "source": [
    "palette = {\n",
    "    'Democrat': 'tab:blue',\n",
    "    'Moderate': 'tab:green',\n",
    "    'Republican': 'tab:red',\n",
    "}\n",
    "sns.set_style(\"white\", rc={'axes.spines.right': False, 'axes.spines.top': False, 'figure.dpi':600, 'axes.xmargin': 0.15, 'xtick.labelsize': 'x-large'})\n",
    "fig, axes = plt.subplots(nrows=2, ncols=2, figsize=(10, 7), sharex=True, sharey=True)\n",
    "i = 0\n",
    "j = 0\n",
    "for timestamp in list(data.timestamp.unique()):\n",
    "    tmp = data[data['timestamp']==timestamp]\n",
    "    tmp = tmp[tmp['homophily']>0]\n",
    "    tmp = tmp[tmp['openMindedness']>0]\n",
    "    g = sns.scatterplot(data=tmp, x='homophily', y = 'openMindedness', hue='orientation', hue_order=['Democrat', 'Moderate', 'Republican'], palette=palette, ax=axes[i, j])    # g = sns.histplot(data=tmp, x='opt', kde=True, color='black', bins=30, ax=axes[i, j], stat='probability', common_norm=False, alpha=0.8)\n",
    "    g.set_ylabel(\"open mindedness\")\n",
    "    g.set_xlabel(\"standard deviation\")\n",
    "    # g.set_ylabel(\"% Users\", fontsize = 15)\n",
    "    # g.set_xlabel(r\"Error (log)\", fontsize = 15)\n",
    "    # g.set_title(f'{timestamp}', fontsize = 15)\n",
    "    # g.set(xscale='log')\n",
    "    # g.set_xticklabels(labels=[-0.2, 0.0, 0.2, 0.4, 0.6, 0.8], fontsize=15)\n",
    "    # yticklabels = g.get_yticks()\n",
    "    # g.set_yticklabels(labels = yticklabels, fontsize=15)\n",
    "    # plt.setp(g.get_legend().get_texts(), fontsize='15') # for legend text\n",
    "    # plt.setp(g.get_legend().get_title(), fontsize='15') # for legend text\n",
    "    plt.subplots_adjust(hspace=0.3, wspace=0.3)\n",
    "    j += 1\n",
    "    if j % 2 == 0:\n",
    "        i+=1\n",
    "        j = 0\n",
    "plt.show()\n",
    "plt.close()"
   ]
  },
  {
   "cell_type": "code",
   "execution_count": null,
   "metadata": {},
   "outputs": [],
   "source": [
    "from scipy.stats import pearsonr\n",
    "data['openMindedness'].corr(data['homophily'])"
   ]
  },
  {
   "cell_type": "code",
   "execution_count": null,
   "metadata": {},
   "outputs": [],
   "source": [
    "tmp = data[data['openMindedness']>0]\n",
    "tmp = tmp[tmp['homophily']>0]\n",
    "tmp['openMindedness'].corr(data['homophily'])"
   ]
  },
  {
   "cell_type": "code",
   "execution_count": null,
   "metadata": {},
   "outputs": [],
   "source": []
  },
  {
   "cell_type": "code",
   "execution_count": null,
   "metadata": {},
   "outputs": [],
   "source": []
  },
  {
   "cell_type": "code",
   "execution_count": null,
   "metadata": {},
   "outputs": [],
   "source": []
  },
  {
   "cell_type": "code",
   "execution_count": null,
   "metadata": {},
   "outputs": [],
   "source": []
  },
  {
   "cell_type": "code",
   "execution_count": null,
   "metadata": {},
   "outputs": [],
   "source": []
  }
 ],
 "metadata": {
  "@webio": {
   "lastCommId": null,
   "lastKernelId": null
  },
  "kernelspec": {
   "display_name": "Python 3 (ipykernel)",
   "language": "python",
   "name": "python3"
  },
  "language_info": {
   "codemirror_mode": {
    "name": "ipython",
    "version": 3
   },
   "file_extension": ".py",
   "mimetype": "text/x-python",
   "name": "python",
   "nbconvert_exporter": "python",
   "pygments_lexer": "ipython3",
   "version": "3.8.12"
  },
  "vscode": {
   "interpreter": {
    "hash": "0a54084e6b208ee8d1ce3989ffc20924477a5f55f5a43e22e699a6741623861e"
   }
  }
 },
 "nbformat": 4,
 "nbformat_minor": 4
}
